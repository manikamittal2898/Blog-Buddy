{
 "cells": [
  {
   "cell_type": "code",
   "execution_count": 1,
   "metadata": {
    "collapsed": true
   },
   "outputs": [],
   "source": [
    "import yake"
   ]
  },
  {
   "cell_type": "code",
   "execution_count": 2,
   "outputs": [],
   "source": [
    "text = \"Sources tell us that Google is acquiring Kaggle, a platform that hosts data science and machine learning \"\\\n",
    "\"competitions. Details about the transaction remain somewhat vague, but given that Google is hosting its Cloud \"\\\n",
    "\"Next conference in San Francisco this week, the official announcement could come as early as tomorrow. \"\\\n",
    "\"Reached by phone, Kaggle co-founder CEO Anthony Goldbloom declined to deny that the acquisition is happening. \"\\\n",
    "\"Google itself declined 'to comment on rumors'. Kaggle, which has about half a million data scientists on its platform, \"\\\n",
    "\"was founded by Goldbloom  and Ben Hamner in 2010. \"\\\n",
    "\"The service got an early start and even though it has a few competitors like DrivenData, TopCoder and HackerRank, \"\\\n",
    "\"it has managed to stay well ahead of them by focusing on its specific niche. \"\\\n",
    "\"The service is basically the de facto home for running data science and machine learning competitions. \"\\\n",
    "\"With Kaggle, Google is buying one of the largest and most active communities for data scientists - and with that, \"\\\n",
    "\"it will get increased mindshare in this community, too (though it already has plenty of that thanks to Tensorflow \"\\\n",
    "\"and other projects). Kaggle has a bit of a history with Google, too, but that's pretty recent. Earlier this month, \"\\\n",
    "\"Google and Kaggle teamed up to host a $100,000 machine learning competition around classifying YouTube videos. \"\\\n",
    "\"That competition had some deep integrations with the Google Cloud Platform, too. Our understanding is that Google \"\\\n",
    "\"will keep the service running - likely under its current name. While the acquisition is probably more about \"\\\n",
    "\"Kaggle's community than technology, Kaggle did build some interesting tools for hosting its competition \"\\\n",
    "\"and 'kernels', too. On Kaggle, kernels are basically the source code for analyzing data sets and developers can \"\\\n",
    "\"share this code on the platform (the company previously called them 'scripts'). \"\\\n",
    "\"Like similar competition-centric sites, Kaggle also runs a job board, too. It's unclear what Google will do with \"\\\n",
    "\"that part of the service. According to Crunchbase, Kaggle raised $12.5 million (though PitchBook says it's $12.75) \"\\\n",
    "\"since its   launch in 2010. Investors in Kaggle include Index Ventures, SV Angel, Max Levchin, Naval Ravikant, \"\\\n",
    "\"Google chief economist Hal Varian, Khosla Ventures and Yuri Milner \"\n"
   ],
   "metadata": {
    "collapsed": false,
    "pycharm": {
     "name": "#%%\n"
    }
   }
  },
  {
   "cell_type": "code",
   "execution_count": 3,
   "outputs": [
    {
     "output_type": "stream",
     "name": "stdout",
     "text": [
      "('google', 0.026580863364597897)\n('kaggle', 0.0289005976239829)\n('ceo anthony goldbloom', 0.029946071606210194)\n('san francisco', 0.048810837074825336)\n('anthony goldbloom declined', 0.06176910090701819)\n('google cloud platform', 0.06261974476422487)\n('co-founder ceo anthony', 0.07357749587020043)\n('acquiring kaggle', 0.08723571551039863)\n('ceo anthony', 0.08915156857226395)\n('anthony goldbloom', 0.09123482372372106)\n('machine learning', 0.09147989238151344)\n('kaggle co-founder ceo', 0.093805063905847)\n('data', 0.097574333771058)\n('google cloud', 0.10260128641464673)\n('machine learning competitions', 0.10773000650607861)\n('francisco this week', 0.11519915079240485)\n('platform', 0.1183512305596321)\n('conference in san', 0.12392066376108138)\n('service', 0.12546743261462942)\n('goldbloom', 0.14611408778815776)\n"
     ]
    }
   ],
   "source": [
    "language = \"en\"\n",
    "max_ngram_size = 3\n",
    "deduplication_thresold = 0.9\n",
    "deduplication_algo = 'seqm'\n",
    "windowSize = 1\n",
    "numOfKeywords = 20\n",
    "\n",
    "custom_kw_extractor = yake.KeywordExtractor(lan=language, n=max_ngram_size, dedupLim=deduplication_thresold, dedupFunc=deduplication_algo, windowsSize=windowSize, top=numOfKeywords, features=None)\n",
    "keywords = custom_kw_extractor.extract_keywords(text)\n",
    "\n",
    "for kw in keywords:\n",
    "    print(kw)\n"
   ],
   "metadata": {
    "collapsed": false,
    "pycharm": {
     "name": "#%%\n"
    }
   }
  },
  {
   "cell_type": "code",
   "execution_count": 8,
   "metadata": {},
   "outputs": [
    {
     "output_type": "execute_result",
     "data": {
      "text/plain": [
       "\"Sources tell us that <span class='my_class' >google</span> is acquiring <span class='my_class' >kaggle</span>, a <span class='my_class' >platform</span> that hosts <span class='my_class' >data</span> science and <span class='my_class' >machine learning</span> competitions. Details about the transaction remain somewhat vague, but given that <span class='my_class' >google</span> is hosting its Cloud Next conference in <span class='my_class' >san francisco</span> this week, the official announcement could come as early as tomorrow. Reached by phone, <span class='my_class' >kaggle</span> co-founder <span class='my_class' >ceo anthony goldbloom</span> declined to deny that the acquisition is happening. <span class='my_class' >google</span> itself declined 'to comment on rumors'. <span class='my_class' >kaggle</span>, which has about half a million <span class='my_class' >data</span> scientists on its <span class='my_class' >platform</span>, was founded by <span class='my_class' >goldbloom</span>  and Ben Hamner in 2010. The <span class='my_class' >service</span> got an early start and even though it has a few competitors like DrivenData, TopCoder and HackerRank, it has managed to stay well ahead of them by focusing on its specific niche. The <span class='my_class' >service</span> is basically the de facto home for running <span class='my_class' >data</span> science and <span class='my_class' >machine learning</span> competitions. With <span class='my_class' >kaggle</span>, <span class='my_class' >google</span> is buying one of the largest and most active communities for <span class='my_class' >data</span> scientists - and with that, it will get increased mindshare in this community, too (though it already has plenty of that thanks to Tensorflow and other projects). <span class='my_class' >kaggle</span> has a bit of a history with <span class='my_class' >google</span>, too, but that's pretty recent. Earlier this month, <span class='my_class' >google</span> and <span class='my_class' >kaggle</span> teamed up to host a $100,000 <span class='my_class' >machine learning</span> competition around classifying YouTube videos. That competition had some deep integrations with the <span class='my_class' >google</span> Cloud <span class='my_class' >platform</span>, too. Our understanding is that <span class='my_class' >google</span> will keep the <span class='my_class' >service</span> running - likely under its current name. While the acquisition is probably more about Kaggle's community than technology, <span class='my_class' >kaggle</span> did build some interesting tools for hosting its competition and 'kernels', too. On <span class='my_class' >kaggle</span>, kernels are basically the source code for analyzing <span class='my_class' >data</span> sets and developers can share this code on the <span class='my_class' >platform</span> (the company previously called them 'scripts'). Like similar competition-centric sites, <span class='my_class' >kaggle</span> also runs a job board, too. It's unclear what <span class='my_class' >google</span> will do with that part of the <span class='my_class' >service</span>. According to Crunchbase, <span class='my_class' >kaggle</span> raised $12.5 million (though PitchBook says it's $12.75) since its   launch in 2010. Investors in <span class='my_class' >kaggle</span> include Index Ventures, SV Angel, Max Levchin, Naval Ravikant, <span class='my_class' >google</span> chief economist Hal Varian, Khosla Ventures and Yuri Milner \""
      ]
     },
     "metadata": {},
     "execution_count": 8
    }
   ],
   "source": [
    "from highlight import TextHighlighter\n",
    "th = TextHighlighter(max_ngram_size = 3, highlight_pre = \"<span class='my_class' >\", highlight_post= \"</span>\")\n",
    "th.highlight(text, keywords)"
   ]
  },
  {
   "cell_type": "code",
   "execution_count": null,
   "metadata": {},
   "outputs": [],
   "source": []
  }
 ],
 "metadata": {
  "kernelspec": {
   "display_name": "Python 3",
   "language": "python",
   "name": "python3"
  },
  "language_info": {
   "codemirror_mode": {
    "name": "ipython",
    "version": 2
   },
   "file_extension": ".py",
   "mimetype": "text/x-python",
   "name": "python",
   "nbconvert_exporter": "python",
   "pygments_lexer": "ipython2",
   "version": "3.6.9-final"
  }
 },
 "nbformat": 4,
 "nbformat_minor": 0
}